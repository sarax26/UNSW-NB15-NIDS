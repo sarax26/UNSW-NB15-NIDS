{
 "cells": [
  {
   "cell_type": "code",
   "execution_count": 11,
   "id": "27c937e7",
   "metadata": {},
   "outputs": [],
   "source": [
    "import pandas as pd\n",
    "data=pd.read_csv(\"C:/Users/DANIYA/Desktop/cap_data.csv\")"
   ]
  },
  {
   "cell_type": "code",
   "execution_count": 12,
   "id": "171d5407",
   "metadata": {},
   "outputs": [
    {
     "name": "stdout",
     "output_type": "stream",
     "text": [
      "<class 'pandas.core.frame.DataFrame'>\n",
      "RangeIndex: 253 entries, 0 to 252\n",
      "Data columns (total 29 columns):\n",
      " #   Column       Non-Null Count  Dtype  \n",
      "---  ------       --------------  -----  \n",
      " 0   Unnamed: 0   253 non-null    int64  \n",
      " 1   version      253 non-null    int64  \n",
      " 2   ihl          253 non-null    int64  \n",
      " 3   tos          253 non-null    int64  \n",
      " 4   len          253 non-null    int64  \n",
      " 5   id           253 non-null    int64  \n",
      " 6   flags        104 non-null    object \n",
      " 7   frag         253 non-null    int64  \n",
      " 8   ttl          253 non-null    int64  \n",
      " 9   proto        253 non-null    int64  \n",
      " 10  chksum       253 non-null    int64  \n",
      " 11  src          253 non-null    object \n",
      " 12  dst          253 non-null    object \n",
      " 13  options      253 non-null    int64  \n",
      " 14  time         253 non-null    int64  \n",
      " 15  sport        251 non-null    float64\n",
      " 16  dport        251 non-null    float64\n",
      " 17  seq          54 non-null     float64\n",
      " 18  ack          54 non-null     float64\n",
      " 19  dataofs      54 non-null     float64\n",
      " 20  reserved     54 non-null     float64\n",
      " 21  flags.1      54 non-null     object \n",
      " 22  window       54 non-null     float64\n",
      " 23  chksum.1     251 non-null    float64\n",
      " 24  urgptr       54 non-null     float64\n",
      " 25  options.1    35 non-null     float64\n",
      " 26  payload      253 non-null    int64  \n",
      " 27  payload_raw  253 non-null    object \n",
      " 28  payload_hex  253 non-null    object \n",
      "dtypes: float64(10), int64(13), object(6)\n",
      "memory usage: 57.4+ KB\n"
     ]
    }
   ],
   "source": [
    "df=pd.DataFrame(data)\n",
    "df.info()"
   ]
  },
  {
   "cell_type": "code",
   "execution_count": 13,
   "id": "67f4a72c",
   "metadata": {},
   "outputs": [],
   "source": [
    "import pandas as pd\n",
    "import numpy as np\n",
    "from sklearn.preprocessing import StandardScaler\n",
    "from sklearn.preprocessing import OneHotEncoder\n",
    "from sklearn.model_selection import train_test_split\n",
    "\n",
    "# Remove the 'Unnamed: 0' column if it's just an index\n",
    "data = data.drop('Unnamed: 0', axis=1)\n",
    "\n",
    "# Handling missing values\n",
    "# You might want to choose a specific strategy based on your data\n",
    "data['flags'].fillna('Unknown', inplace=True)  # Replace missing values in 'flags' with 'Unknown'\n",
    "data['sport'].fillna(0, inplace=True)  # Replace missing values in 'sport' with 0\n",
    "data['dport'].fillna(0, inplace=True)  # Replace missing values in 'dport' with 0\n",
    "data['seq'].fillna(0, inplace=True)  # Replace missing values in 'seq' with 0\n",
    "data['ack'].fillna(0, inplace=True)  # Replace missing values in 'ack' with 0\n",
    "data['dataofs'].fillna(0, inplace=True)  # Replace missing values in 'dataofs' with 0\n",
    "data['reserved'].fillna(0, inplace=True)  # Replace missing values in 'reserved' with 0\n",
    "data['flags.1'].fillna('Unknown', inplace=True)  # Replace missing values in 'flags.1' with 'Unknown'\n",
    "data['window'].fillna(0, inplace=True)  # Replace missing values in 'window' with 0\n",
    "data['chksum.1'].fillna(0, inplace=True)  # Replace missing values in 'chksum.1' with 0\n",
    "data['urgptr'].fillna(0, inplace=True)  # Replace missing values in 'urgptr' with 0\n",
    "data['options.1'].fillna(0, inplace=True)  # Replace missing values in 'options.1' with 0\n",
    "\n",
    "# Convert float columns to integers if needed\n",
    "float_columns = ['sport', 'dport', 'seq', 'ack', 'dataofs', 'reserved', 'window', 'chksum.1', 'urgptr', 'options.1']\n",
    "data[float_columns] = data[float_columns].astype(int)\n",
    "\n",
    "# Check for duplicates and remove them if necessary\n",
    "data = data.drop_duplicates()\n",
    "\n",
    "# Feature Scaling/Normalization\n",
    "scaler = StandardScaler()\n",
    "data[float_columns] = scaler.fit_transform(data[float_columns])\n",
    "\n",
    "# One-Hot Encoding for categorical columns\n",
    "categorical_columns = ['flags', 'flags.1']\n",
    "encoder = OneHotEncoder(sparse=False, drop='first')\n",
    "encoded_data = encoder.fit_transform(data[categorical_columns])\n",
    "encoded_df = pd.DataFrame(encoded_data, columns=encoder.get_feature_names_out(categorical_columns))\n",
    "data = pd.concat([data, encoded_df], axis=1)\n",
    "data = data.drop(categorical_columns, axis=1)\n",
    "\n",
    "# Perform other preprocessing steps as needed\n",
    "\n",
    "# Save the preprocessed data back to a CSV file if desired\n",
    "data.to_csv('prepro_data.csv', index=False)\n"
   ]
  },
  {
   "cell_type": "code",
   "execution_count": 44,
   "id": "b5f3eeaa",
   "metadata": {},
   "outputs": [],
   "source": [
    "data=pd.read_csv(\"C:/Users/DANIYA/Desktop/prepro_data.csv\")"
   ]
  },
  {
   "cell_type": "code",
   "execution_count": 45,
   "id": "5d0a19b1",
   "metadata": {},
   "outputs": [
    {
     "name": "stdout",
     "output_type": "stream",
     "text": [
      "<class 'pandas.core.frame.DataFrame'>\n",
      "RangeIndex: 253 entries, 0 to 252\n",
      "Data columns (total 30 columns):\n",
      " #   Column           Non-Null Count  Dtype  \n",
      "---  ------           --------------  -----  \n",
      " 0   version          253 non-null    int64  \n",
      " 1   ihl              253 non-null    int64  \n",
      " 2   tos              253 non-null    int64  \n",
      " 3   len              253 non-null    int64  \n",
      " 4   id               253 non-null    int64  \n",
      " 5   frag             253 non-null    int64  \n",
      " 6   ttl              253 non-null    int64  \n",
      " 7   proto            253 non-null    int64  \n",
      " 8   chksum           253 non-null    int64  \n",
      " 9   src              253 non-null    object \n",
      " 10  dst              253 non-null    object \n",
      " 11  options          253 non-null    int64  \n",
      " 12  time             253 non-null    int64  \n",
      " 13  sport            253 non-null    float64\n",
      " 14  dport            253 non-null    float64\n",
      " 15  seq              253 non-null    float64\n",
      " 16  ack              253 non-null    float64\n",
      " 17  dataofs          253 non-null    float64\n",
      " 18  reserved         253 non-null    int64  \n",
      " 19  window           253 non-null    float64\n",
      " 20  chksum.1         253 non-null    float64\n",
      " 21  urgptr           253 non-null    int64  \n",
      " 22  options.1        253 non-null    float64\n",
      " 23  payload          253 non-null    int64  \n",
      " 24  payload_raw      253 non-null    object \n",
      " 25  payload_hex      253 non-null    object \n",
      " 26  flags_Unknown    253 non-null    int64  \n",
      " 27  flags.1_PA       253 non-null    int64  \n",
      " 28  flags.1_Unknown  253 non-null    int64  \n",
      " 29  label            253 non-null    int64  \n",
      "dtypes: float64(8), int64(18), object(4)\n",
      "memory usage: 59.4+ KB\n"
     ]
    }
   ],
   "source": [
    "df=pd.DataFrame(data)\n",
    "df.info()"
   ]
  },
  {
   "cell_type": "code",
   "execution_count": 46,
   "id": "a2cadc02",
   "metadata": {},
   "outputs": [],
   "source": [
    "#random forest"
   ]
  },
  {
   "cell_type": "code",
   "execution_count": 47,
   "id": "2bc8cc5a",
   "metadata": {},
   "outputs": [
    {
     "name": "stdout",
     "output_type": "stream",
     "text": [
      "Accuracy: 0.5686274509803921\n"
     ]
    }
   ],
   "source": [
    "import pandas as pd\n",
    "from sklearn.model_selection import train_test_split\n",
    "from sklearn.ensemble import RandomForestClassifier\n",
    "from sklearn.metrics import accuracy_score\n",
    "\n",
    "df = df.drop(columns=['id'])\n",
    "X = df.drop(columns=['label'])  # Features\n",
    "y = df['label']  # Target variable\n",
    "X = pd.get_dummies(X)\n",
    "X_train, X_test, y_train, y_test = train_test_split(X, y, test_size=0.2, random_state=42)\n",
    "rf_classifier = RandomForestClassifier(n_estimators=100, random_state=42)\n",
    "rf_classifier.fit(X_train, y_train)\n",
    "y_pred = rf_classifier.predict(X_test)\n",
    "accuracy = accuracy_score(y_test, y_pred)\n",
    "print(f'Accuracy: {accuracy}')\n"
   ]
  },
  {
   "cell_type": "code",
   "execution_count": 42,
   "id": "dc983957",
   "metadata": {},
   "outputs": [
    {
     "name": "stdout",
     "output_type": "stream",
     "text": [
      "Accuracy: 0.5882352941176471\n"
     ]
    }
   ],
   "source": [
    "import pandas as pd\n",
    "from sklearn.model_selection import train_test_split\n",
    "from sklearn.ensemble import RandomForestClassifier\n",
    "from sklearn.metrics import accuracy_score\n",
    "\n",
    "\n",
    "# Select specific columns for X and set 'label' as y\n",
    "X = df[['proto', 'sport', 'dport', 'seq', 'ack', 'flags_Unknown','flags.1_PA','flags.1_Unknown', 'payload']]\n",
    "y = df['label']\n",
    "\n",
    "# Encode categorical variable 'flags' (if needed)\n",
    "X = pd.get_dummies(X)\n",
    "\n",
    "# Split the data into training and testing sets\n",
    "X_train, X_test, y_train, y_test = train_test_split(X, y, test_size=0.2, random_state=42)\n",
    "\n",
    "# Create and train the Random Forest Classifier\n",
    "rf_classifier = RandomForestClassifier(n_estimators=100, random_state=42)\n",
    "rf_classifier.fit(X_train, y_train)\n",
    "\n",
    "# Make predictions on the test set\n",
    "y_pred = rf_classifier.predict(X_test)\n",
    "\n",
    "# Calculate accuracy\n",
    "accuracy = accuracy_score(y_test, y_pred)\n",
    "print(f'Accuracy: {accuracy}')\n"
   ]
  },
  {
   "cell_type": "code",
   "execution_count": 43,
   "id": "58d12c65",
   "metadata": {},
   "outputs": [
    {
     "name": "stdout",
     "output_type": "stream",
     "text": [
      "For 50 estimators:\n",
      "Accuracy: 0.5882\n",
      "Precision: 0.6000\n",
      "Recall: 0.2609\n",
      "F1 Score: 0.3636\n",
      "\n",
      "For 100 estimators:\n",
      "Accuracy: 0.5882\n",
      "Precision: 0.6000\n",
      "Recall: 0.2609\n",
      "F1 Score: 0.3636\n",
      "\n",
      "For 150 estimators:\n",
      "Accuracy: 0.5882\n",
      "Precision: 0.6000\n",
      "Recall: 0.2609\n",
      "F1 Score: 0.3636\n",
      "\n",
      "For 200 estimators:\n",
      "Accuracy: 0.5882\n",
      "Precision: 0.6000\n",
      "Recall: 0.2609\n",
      "F1 Score: 0.3636\n",
      "\n"
     ]
    }
   ],
   "source": [
    "from sklearn.ensemble import RandomForestClassifier\n",
    "from sklearn.metrics import accuracy_score, precision_score, recall_score, f1_score\n",
    "\n",
    "n_estimators_list = [50, 100, 150, 200]\n",
    "\n",
    "for n_estimators in n_estimators_list:\n",
    "    rf_classifier = RandomForestClassifier(n_estimators=n_estimators, random_state=42)\n",
    "    \n",
    "    rf_classifier.fit(X_train, y_train)\n",
    "\n",
    "    y_pred = rf_classifier.predict(X_test)\n",
    "\n",
    "    accuracy = accuracy_score(y_test, y_pred)\n",
    "    precision = precision_score(y_test, y_pred)\n",
    "    recall = recall_score(y_test, y_pred)\n",
    "    f1 = f1_score(y_test, y_pred)\n",
    "    \n",
    "    print(f'For {n_estimators} estimators:')\n",
    "    print(f'Accuracy: {accuracy:.4f}')\n",
    "    print(f'Precision: {precision:.4f}')\n",
    "    print(f'Recall: {recall:.4f}')\n",
    "    print(f'F1 Score: {f1:.4f}')\n",
    "    print()\n"
   ]
  },
  {
   "cell_type": "code",
   "execution_count": null,
   "id": "64a79090",
   "metadata": {},
   "outputs": [],
   "source": []
  }
 ],
 "metadata": {
  "kernelspec": {
   "display_name": "Python 3 (ipykernel)",
   "language": "python",
   "name": "python3"
  },
  "language_info": {
   "codemirror_mode": {
    "name": "ipython",
    "version": 3
   },
   "file_extension": ".py",
   "mimetype": "text/x-python",
   "name": "python",
   "nbconvert_exporter": "python",
   "pygments_lexer": "ipython3",
   "version": "3.9.12"
  }
 },
 "nbformat": 4,
 "nbformat_minor": 5
}
