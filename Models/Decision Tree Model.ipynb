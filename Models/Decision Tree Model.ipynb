{
 "cells": [
  {
   "cell_type": "code",
   "execution_count": 1,
   "id": "5c491fdc",
   "metadata": {},
   "outputs": [
    {
     "name": "stdout",
     "output_type": "stream",
     "text": [
      "<class 'pandas.core.frame.DataFrame'>\n",
      "RangeIndex: 175341 entries, 0 to 175340\n",
      "Data columns (total 45 columns):\n",
      " #   Column             Non-Null Count   Dtype  \n",
      "---  ------             --------------   -----  \n",
      " 0   id                 175341 non-null  int64  \n",
      " 1   dur                175341 non-null  float64\n",
      " 2   proto              175341 non-null  object \n",
      " 3   service            175341 non-null  object \n",
      " 4   state              175341 non-null  object \n",
      " 5   spkts              175341 non-null  int64  \n",
      " 6   dpkts              175341 non-null  int64  \n",
      " 7   sbytes             175341 non-null  int64  \n",
      " 8   dbytes             175341 non-null  int64  \n",
      " 9   rate               175341 non-null  float64\n",
      " 10  sttl               175341 non-null  int64  \n",
      " 11  dttl               175341 non-null  int64  \n",
      " 12  sload              175341 non-null  float64\n",
      " 13  dload              175341 non-null  float64\n",
      " 14  sloss              175341 non-null  int64  \n",
      " 15  dloss              175341 non-null  int64  \n",
      " 16  sinpkt             175341 non-null  float64\n",
      " 17  dinpkt             175341 non-null  float64\n",
      " 18  sjit               175341 non-null  float64\n",
      " 19  djit               175341 non-null  float64\n",
      " 20  swin               175341 non-null  int64  \n",
      " 21  stcpb              175341 non-null  int64  \n",
      " 22  dtcpb              175341 non-null  int64  \n",
      " 23  dwin               175341 non-null  int64  \n",
      " 24  tcprtt             175341 non-null  float64\n",
      " 25  synack             175341 non-null  float64\n",
      " 26  ackdat             175341 non-null  float64\n",
      " 27  smean              175341 non-null  int64  \n",
      " 28  dmean              175341 non-null  int64  \n",
      " 29  trans_depth        175341 non-null  int64  \n",
      " 30  response_body_len  175341 non-null  int64  \n",
      " 31  ct_srv_src         175341 non-null  int64  \n",
      " 32  ct_state_ttl       175341 non-null  int64  \n",
      " 33  ct_dst_ltm         175341 non-null  int64  \n",
      " 34  ct_src_dport_ltm   175341 non-null  int64  \n",
      " 35  ct_dst_sport_ltm   175341 non-null  int64  \n",
      " 36  ct_dst_src_ltm     175341 non-null  int64  \n",
      " 37  is_ftp_login       175341 non-null  int64  \n",
      " 38  ct_ftp_cmd         175341 non-null  int64  \n",
      " 39  ct_flw_http_mthd   175341 non-null  int64  \n",
      " 40  ct_src_ltm         175341 non-null  int64  \n",
      " 41  ct_srv_dst         175341 non-null  int64  \n",
      " 42  is_sm_ips_ports    175341 non-null  int64  \n",
      " 43  attack_cat         175341 non-null  object \n",
      " 44  label              175341 non-null  int64  \n",
      "dtypes: float64(11), int64(30), object(4)\n",
      "memory usage: 60.2+ MB\n"
     ]
    }
   ],
   "source": [
    "import pandas as pd\n",
    "import numpy as np\n",
    "data=pd.read_csv(\"C:/Users/DANIYA/Desktop/PROJECT/og.csv\")\n",
    "df=pd.DataFrame(data)\n",
    "df.head()\n",
    "df.info()"
   ]
  },
  {
   "cell_type": "markdown",
   "id": "bfa5e0f7",
   "metadata": {},
   "source": [
    "# decision tree og"
   ]
  },
  {
   "cell_type": "code",
   "execution_count": 2,
   "id": "a8830055",
   "metadata": {},
   "outputs": [
    {
     "name": "stdout",
     "output_type": "stream",
     "text": [
      "Accuracy: 0.9482734038609598\n",
      "\n",
      "Top 10 Most Important Features:\n",
      "           Feature  Importance\n",
      "6             sttl    0.676624\n",
      "37      ct_srv_dst    0.063202\n",
      "3           sbytes    0.042595\n",
      "23           smean    0.031890\n",
      "27      ct_srv_src    0.014017\n",
      "20          tcprtt    0.010605\n",
      "12          sinpkt    0.010279\n",
      "17           stcpb    0.009931\n",
      "32  ct_dst_src_ltm    0.009885\n",
      "18           dtcpb    0.009591\n"
     ]
    }
   ],
   "source": [
    "import pandas as pd\n",
    "from sklearn.model_selection import train_test_split\n",
    "from sklearn.tree import DecisionTreeClassifier\n",
    "from sklearn.metrics import accuracy_score\n",
    "\n",
    "df = df.drop(columns=['id', 'attack_cat'])\n",
    "X = df.drop(columns=['label'])  # Features\n",
    "y = df['label']  # Target variable\n",
    "X = pd.get_dummies(X)\n",
    "X_train, X_test, y_train, y_test = train_test_split(X, y, test_size=0.2, random_state=42)\n",
    "dt_classifier = DecisionTreeClassifier(random_state=42)\n",
    "dt_classifier.fit(X_train, y_train)\n",
    "y_pred = dt_classifier.predict(X_test)\n",
    "accuracy = accuracy_score(y_test, y_pred)\n",
    "print(f'Accuracy: {accuracy}')\n",
    "feature_importances = dt_classifier.feature_importances_\n",
    "importance_df = pd.DataFrame({'Feature': X.columns, 'Importance': feature_importances})\n",
    "importance_df = importance_df.sort_values(by='Importance', ascending=False)\n",
    "print(\"\\nTop 10 Most Important Features:\")\n",
    "print(importance_df.head(10))\n"
   ]
  },
  {
   "cell_type": "code",
   "execution_count": 3,
   "id": "16ac2c6e",
   "metadata": {},
   "outputs": [
    {
     "name": "stdout",
     "output_type": "stream",
     "text": [
      "Training Accuracy: 0.9983460704916163\n"
     ]
    }
   ],
   "source": [
    "import pandas as pd\n",
    "from sklearn.model_selection import train_test_split\n",
    "from sklearn.tree import DecisionTreeClassifier\n",
    "from sklearn.metrics import accuracy_score\n",
    "\n",
    "# Your DataFrame and data preprocessing code here\n",
    "\n",
    "X_train, X_test, y_train, y_test = train_test_split(X, y, test_size=0.2, random_state=42)\n",
    "dt_classifier = DecisionTreeClassifier(random_state=42)\n",
    "dt_classifier.fit(X_train, y_train)\n",
    "y_pred_train = dt_classifier.predict(X_train)  # Predict on the training data\n",
    "accuracy_train = accuracy_score(y_train, y_pred_train)  # Calculate training accuracy\n",
    "print(f'Training Accuracy: {accuracy_train}')\n"
   ]
  },
  {
   "cell_type": "markdown",
   "id": "86cf0658",
   "metadata": {},
   "source": [
    "# evaluation of the above accuracy with the use of precision , recall , f1-score"
   ]
  },
  {
   "cell_type": "code",
   "execution_count": 4,
   "id": "2582924e",
   "metadata": {},
   "outputs": [
    {
     "name": "stdout",
     "output_type": "stream",
     "text": [
      "Precision: 0.9611241022214799\n",
      "Recall: 0.9630543933054393\n",
      "F1-score: 0.9620882795519144\n"
     ]
    }
   ],
   "source": [
    "from sklearn.metrics import precision_score, recall_score, f1_score\n",
    "precision = precision_score(y_test, y_pred)\n",
    "recall = recall_score(y_test, y_pred)\n",
    "f1 = f1_score(y_test, y_pred)\n",
    "print(f'Precision: {precision}')\n",
    "print(f'Recall: {recall}')\n",
    "print(f'F1-score: {f1}')\n"
   ]
  },
  {
   "cell_type": "code",
   "execution_count": 5,
   "id": "9729387d",
   "metadata": {},
   "outputs": [
    {
     "name": "stdout",
     "output_type": "stream",
     "text": [
      "\n",
      "Top 10 Most Important Features:\n",
      "           Feature  Importance\n",
      "6             sttl    0.676624\n",
      "37      ct_srv_dst    0.063202\n",
      "3           sbytes    0.042595\n",
      "23           smean    0.031890\n",
      "27      ct_srv_src    0.014017\n",
      "20          tcprtt    0.010605\n",
      "12          sinpkt    0.010279\n",
      "17           stcpb    0.009931\n",
      "32  ct_dst_src_ltm    0.009885\n",
      "18           dtcpb    0.009591\n",
      "\n",
      "Selected Features:\n",
      "6               sttl\n",
      "37        ct_srv_dst\n",
      "3             sbytes\n",
      "23             smean\n",
      "27        ct_srv_src\n",
      "20            tcprtt\n",
      "12            sinpkt\n",
      "17             stcpb\n",
      "32    ct_dst_src_ltm\n",
      "18             dtcpb\n",
      "Name: Feature, dtype: object\n"
     ]
    }
   ],
   "source": [
    "import pandas as pd\n",
    "from sklearn.model_selection import train_test_split\n",
    "from sklearn.tree import DecisionTreeClassifier\n",
    "from sklearn.metrics import accuracy_score\n",
    "\n",
    "\n",
    "dt_classifier = DecisionTreeClassifier(random_state=42)\n",
    "dt_classifier.fit(X_train, y_train)\n",
    "\n",
    "feature_importances = dt_classifier.feature_importances_\n",
    "\n",
    "importance_df = pd.DataFrame({'Feature': X.columns, 'Importance': feature_importances})\n",
    "\n",
    "importance_df = importance_df.sort_values(by='Importance', ascending=False)\n",
    "\n",
    "print(\"\\nTop 10 Most Important Features:\")\n",
    "print(importance_df.head(10))\n",
    "\n",
    "selected_features = importance_df['Feature'][:10]  \n",
    "print(\"\\nSelected Features:\")\n",
    "print(selected_features)\n",
    "\n"
   ]
  },
  {
   "cell_type": "code",
   "execution_count": 6,
   "id": "66c8188b",
   "metadata": {},
   "outputs": [
    {
     "data": {
      "text/plain": [
       "array([8.68260209e-03, 3.60568361e-04, 1.45837631e-03, 4.25947927e-02,\n",
       "       7.63740536e-03, 4.90471433e-03, 6.76624209e-01, 0.00000000e+00,\n",
       "       9.51719494e-03, 5.62567302e-03, 7.01444818e-03, 2.16724435e-03,\n",
       "       1.02788673e-02, 6.08159037e-03, 6.02087208e-03, 5.92692859e-03,\n",
       "       0.00000000e+00, 9.93054638e-03, 9.59092405e-03, 0.00000000e+00,\n",
       "       1.06049796e-02, 8.64101094e-03, 7.68001562e-03, 3.18901440e-02,\n",
       "       7.26302428e-03, 5.04615253e-04, 6.18451961e-04, 1.40165661e-02,\n",
       "       1.89776217e-05, 5.02296469e-03, 3.69337406e-03, 2.42029751e-03,\n",
       "       9.88460466e-03, 0.00000000e+00, 0.00000000e+00, 5.49552478e-04,\n",
       "       6.19596421e-03, 6.32020122e-02, 0.00000000e+00, 0.00000000e+00,\n",
       "       0.00000000e+00, 0.00000000e+00, 0.00000000e+00, 0.00000000e+00,\n",
       "       0.00000000e+00, 3.31905099e-03, 0.00000000e+00, 0.00000000e+00,\n",
       "       0.00000000e+00, 0.00000000e+00, 0.00000000e+00, 0.00000000e+00,\n",
       "       0.00000000e+00, 0.00000000e+00, 0.00000000e+00, 0.00000000e+00,\n",
       "       0.00000000e+00, 0.00000000e+00, 0.00000000e+00, 0.00000000e+00,\n",
       "       0.00000000e+00, 0.00000000e+00, 0.00000000e+00, 0.00000000e+00,\n",
       "       0.00000000e+00, 0.00000000e+00, 0.00000000e+00, 0.00000000e+00,\n",
       "       0.00000000e+00, 0.00000000e+00, 0.00000000e+00, 0.00000000e+00,\n",
       "       0.00000000e+00, 0.00000000e+00, 0.00000000e+00, 0.00000000e+00,\n",
       "       3.61604123e-04, 0.00000000e+00, 0.00000000e+00, 0.00000000e+00,\n",
       "       0.00000000e+00, 4.43474351e-04, 0.00000000e+00, 0.00000000e+00,\n",
       "       0.00000000e+00, 0.00000000e+00, 0.00000000e+00, 0.00000000e+00,\n",
       "       0.00000000e+00, 0.00000000e+00, 0.00000000e+00, 0.00000000e+00,\n",
       "       0.00000000e+00, 0.00000000e+00, 0.00000000e+00, 0.00000000e+00,\n",
       "       0.00000000e+00, 0.00000000e+00, 0.00000000e+00, 0.00000000e+00,\n",
       "       0.00000000e+00, 0.00000000e+00, 0.00000000e+00, 0.00000000e+00,\n",
       "       0.00000000e+00, 0.00000000e+00, 0.00000000e+00, 0.00000000e+00,\n",
       "       0.00000000e+00, 0.00000000e+00, 0.00000000e+00, 0.00000000e+00,\n",
       "       0.00000000e+00, 0.00000000e+00, 0.00000000e+00, 0.00000000e+00,\n",
       "       0.00000000e+00, 0.00000000e+00, 0.00000000e+00, 0.00000000e+00,\n",
       "       0.00000000e+00, 0.00000000e+00, 0.00000000e+00, 0.00000000e+00,\n",
       "       0.00000000e+00, 0.00000000e+00, 0.00000000e+00, 0.00000000e+00,\n",
       "       0.00000000e+00, 0.00000000e+00, 0.00000000e+00, 0.00000000e+00,\n",
       "       0.00000000e+00, 0.00000000e+00, 0.00000000e+00, 0.00000000e+00,\n",
       "       0.00000000e+00, 0.00000000e+00, 0.00000000e+00, 0.00000000e+00,\n",
       "       0.00000000e+00, 0.00000000e+00, 0.00000000e+00, 0.00000000e+00,\n",
       "       0.00000000e+00, 0.00000000e+00, 0.00000000e+00, 0.00000000e+00,\n",
       "       0.00000000e+00, 0.00000000e+00, 0.00000000e+00, 0.00000000e+00,\n",
       "       0.00000000e+00, 0.00000000e+00, 0.00000000e+00, 0.00000000e+00,\n",
       "       0.00000000e+00, 0.00000000e+00, 3.78494702e-04, 0.00000000e+00,\n",
       "       0.00000000e+00, 0.00000000e+00, 0.00000000e+00, 0.00000000e+00,\n",
       "       0.00000000e+00, 0.00000000e+00, 0.00000000e+00, 0.00000000e+00,\n",
       "       0.00000000e+00, 0.00000000e+00, 0.00000000e+00, 0.00000000e+00,\n",
       "       8.05543057e-04, 0.00000000e+00, 9.68099089e-05, 4.25185259e-04,\n",
       "       1.45993519e-06, 1.05769454e-03, 0.00000000e+00, 0.00000000e+00,\n",
       "       5.33417338e-06, 2.02256995e-05, 6.54708822e-07, 0.00000000e+00,\n",
       "       0.00000000e+00, 6.42544093e-03, 0.00000000e+00, 2.47022762e-05,\n",
       "       0.00000000e+00, 0.00000000e+00, 0.00000000e+00, 1.08131127e-05,\n",
       "       0.00000000e+00, 0.00000000e+00])"
      ]
     },
     "execution_count": 6,
     "metadata": {},
     "output_type": "execute_result"
    }
   ],
   "source": [
    "feature_importances "
   ]
  },
  {
   "cell_type": "markdown",
   "id": "6e86f11a",
   "metadata": {},
   "source": [
    "# removing dmean n smean"
   ]
  },
  {
   "cell_type": "markdown",
   "id": "2a97d460",
   "metadata": {},
   "source": [
    "from sklearn.feature_selection import SelectKBest\n",
    "from sklearn.feature_selection import f_classif\n",
    "\n",
    "data=pd.read_csv(\"C:/Users/DANIYA/Desktop/PROJECT/og.csv\")\n",
    "df=pd.DataFrame(data)\n",
    "df = df.drop(columns=['id', 'attack_cat','smean','dmean'])\n",
    "\n",
    "selector = SelectKBest(f_classif, k=10)\n",
    "X_train_top10 = selector.fit_transform(X_train, y_train)\n",
    "X_test_top10 = selector.transform(X_test)\n",
    "dt_classifier = DecisionTreeClassifier(random_state=42)\n",
    "dt_classifier.fit(X_train_top10, y_train)\n",
    "y_pred_top10 = dt_classifier.predict(X_test_top10)\n",
    "accuracy_top10 = accuracy_score(y_test, y_pred_top10)\n",
    "print(f'Accuracy with Top 10 Features: {accuracy_top10}')\n",
    "\n",
    "\n",
    "\n",
    "selected_feature_indices = selector.get_support(indices=True)\n",
    "selected_feature_names = X.columns[selected_feature_indices]\n",
    "print(\"Selected Features:\")\n",
    "for feature in selected_feature_names:\n",
    "    print(feature)"
   ]
  },
  {
   "cell_type": "markdown",
   "id": "363eb163",
   "metadata": {},
   "source": [
    "# iteration using max depth"
   ]
  },
  {
   "cell_type": "code",
   "execution_count": 7,
   "id": "2ca468b9",
   "metadata": {},
   "outputs": [
    {
     "name": "stdout",
     "output_type": "stream",
     "text": [
      "Performance Metrics for Different Max Depths:\n",
      "Max Depth None:\n",
      "Accuracy = 0.9483\n",
      "Precision = 0.9611\n",
      "Recall = 0.9631\n",
      "F1 Score = 0.9621\n",
      "\n",
      "Max Depth 20:\n",
      "Accuracy = 0.9497\n",
      "Precision = 0.9623\n",
      "Recall = 0.9639\n",
      "F1 Score = 0.9631\n",
      "\n",
      "Max Depth 30:\n",
      "Accuracy = 0.9491\n",
      "Precision = 0.9617\n",
      "Recall = 0.9636\n",
      "F1 Score = 0.9627\n",
      "\n",
      "Max Depth 40:\n",
      "Accuracy = 0.9486\n",
      "Precision = 0.9613\n",
      "Recall = 0.9634\n",
      "F1 Score = 0.9623\n",
      "\n"
     ]
    }
   ],
   "source": [
    "from sklearn.tree import DecisionTreeClassifier\n",
    "from sklearn.metrics import accuracy_score, precision_score, recall_score, f1_score\n",
    "\n",
    "max_depths = [None, 20, 30, 40]\n",
    "results = {}\n",
    "\n",
    "for max_depth in max_depths:\n",
    "    dt_classifier = DecisionTreeClassifier(max_depth=max_depth, random_state=42)\n",
    "    dt_classifier.fit(X_train, y_train)\n",
    "    y_pred = dt_classifier.predict(X_test)\n",
    "\n",
    "    accuracy = accuracy_score(y_test, y_pred)\n",
    "    precision = precision_score(y_test, y_pred)\n",
    "    recall = recall_score(y_test, y_pred)\n",
    "    f1 = f1_score(y_test, y_pred)\n",
    "\n",
    "    results[max_depth] = {\n",
    "        'accuracy': accuracy,\n",
    "        'precision': precision,\n",
    "        'recall': recall,\n",
    "        'f1_score': f1\n",
    "    }\n",
    "\n",
    "print(\"Performance Metrics for Different Max Depths:\")\n",
    "for max_depth, metrics in results.items():\n",
    "    print(f\"Max Depth {max_depth}:\")\n",
    "    print(f\"Accuracy = {metrics['accuracy']:.4f}\")\n",
    "    print(f\"Precision = {metrics['precision']:.4f}\")\n",
    "    print(f\"Recall = {metrics['recall']:.4f}\")\n",
    "    print(f\"F1 Score = {metrics['f1_score']:.4f}\")\n",
    "    print()\n"
   ]
  },
  {
   "cell_type": "markdown",
   "id": "ce8fbee3",
   "metadata": {},
   "source": [
    "The accuracy scores for different max depths are displayed in the output.\n",
    "Generally, you observe that accuracy is relatively high for all max_depth values, ranging from approximately 94.82% to 94.97%.\n",
    "These accuracy scores provide insights into how different values of the max_depth hyperparameter affect the model's performance. In this case, it seems that the model performs well across a range of max_depth values, with no substantial improvement observed by increasing the depth beyond 20."
   ]
  },
  {
   "cell_type": "code",
   "execution_count": null,
   "id": "b7be491e",
   "metadata": {},
   "outputs": [],
   "source": []
  }
 ],
 "metadata": {
  "kernelspec": {
   "display_name": "Python 3 (ipykernel)",
   "language": "python",
   "name": "python3"
  },
  "language_info": {
   "codemirror_mode": {
    "name": "ipython",
    "version": 3
   },
   "file_extension": ".py",
   "mimetype": "text/x-python",
   "name": "python",
   "nbconvert_exporter": "python",
   "pygments_lexer": "ipython3",
   "version": "3.9.12"
  }
 },
 "nbformat": 4,
 "nbformat_minor": 5
}
